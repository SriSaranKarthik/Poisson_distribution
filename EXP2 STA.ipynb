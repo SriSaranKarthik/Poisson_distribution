{
 "cells": [
  {
   "cell_type": "code",
   "execution_count": 2,
   "id": "811f0aa8-5aa2-4b03-8873-3ffad9408cd4",
   "metadata": {},
   "outputs": [
    {
     "name": "stdout",
     "output_type": "stream",
     "text": [
      " 0 1 0 2 1 3 2 2 3 1 0 4 2 1 3 2 1 0 2 3 2 1 4 0 2 1 3 2 1 0\n"
     ]
    },
    {
     "name": "stdout",
     "output_type": "stream",
     "text": [
      "X P(X=x) Obs.Fr Exp.Fr xi\n",
      "--------------------------\n",
      "0.00 0.195 6.00 5.86 0.00\n",
      "1.00 0.319 8.00 9.57 0.26\n",
      "2.00 0.260 9.00 7.81 0.18\n",
      "3.00 0.142 5.00 4.25 0.13\n",
      "4.00 0.058 2.00 1.74 0.04\n",
      "--------------------------\n",
      "Calculated value of Chi square is 0.61\n",
      "Table value of chi square at 1 level is 13.28\n",
      "The given data can be fitted in poisson Distribution at 1% LOS\n"
     ]
    }
   ],
   "source": [
    "import numpy as np\n",
    "import math\n",
    "import scipy.stats\n",
    "L=[int(i) for i in input().split()]\n",
    "N=len(L); M=max(L) \n",
    "X=list();f=list()\n",
    "for i in range (M+1):\n",
    "    c = 0\n",
    "    for j in range(N):\n",
    "        if L[j]==i:\n",
    "            c=c+1\n",
    "    f.append(c)\n",
    "    X.append(i)\n",
    "sf=np.sum(f)\n",
    "p=list()\n",
    "for i in range(M+1):\n",
    "    p.append(f[i]/sf) \n",
    "mean=np.inner(X,p)\n",
    "p=list();E=list();xi=list()\n",
    "print(\"X P(X=x) Obs.Fr Exp.Fr xi\")\n",
    "print(\"--------------------------\")\n",
    "for x in range(M+1):\n",
    "    p.append(math.exp(-mean)*mean**x/math.factorial(x))\n",
    "    E.append(p[x]*sf)\n",
    "    xi.append((f[x]-E[x])**2/E[x])\n",
    "    print(\"%2.2f %2.3f %4.2f %3.2f %3.2f\"%(x,p[x],f[x],E[x],xi[x]))\n",
    "print(\"--------------------------\")\n",
    "cal_chi2_sq=np.sum(xi)\n",
    "print(\"Calculated value of Chi square is %4.2f\"%cal_chi2_sq)\n",
    "table_chi2=scipy.stats.chi2.ppf(1-.01,df=M)\n",
    "print(\"Table value of chi square at 1 level is %4.2f\"%table_chi2)\n",
    "if cal_chi2_sq<table_chi2:\n",
    "    print(\"The given data can be fitted in poisson Distribution at 1% LOS\")\n",
    "else:\n",
    "    print(\"The given data cannot be fitted in Poisson Distribution at 1% LOS\")\n",
    " "
   ]
  },
  {
   "cell_type": "code",
   "execution_count": null,
   "id": "6617a17b-c06b-47b6-8852-b08e4a03044a",
   "metadata": {},
   "outputs": [],
   "source": []
  }
 ],
 "metadata": {
  "kernelspec": {
   "display_name": "Python 3 (ipykernel)",
   "language": "python",
   "name": "python3"
  },
  "language_info": {
   "codemirror_mode": {
    "name": "ipython",
    "version": 3
   },
   "file_extension": ".py",
   "mimetype": "text/x-python",
   "name": "python",
   "nbconvert_exporter": "python",
   "pygments_lexer": "ipython3",
   "version": "3.13.5"
  }
 },
 "nbformat": 4,
 "nbformat_minor": 5
}
